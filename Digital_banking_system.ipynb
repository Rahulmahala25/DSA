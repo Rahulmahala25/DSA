{
 "cells": [
  {
   "cell_type": "code",
   "execution_count": 1,
   "id": "e1d5a764-928c-4d8e-88e1-6df5f77daed5",
   "metadata": {},
   "outputs": [
    {
     "ename": "ModuleNotFoundError",
     "evalue": "No module named 'sqlalchemy'",
     "output_type": "error",
     "traceback": [
      "\u001b[31m---------------------------------------------------------------------------\u001b[39m",
      "\u001b[31mModuleNotFoundError\u001b[39m                       Traceback (most recent call last)",
      "\u001b[36mCell\u001b[39m\u001b[36m \u001b[39m\u001b[32mIn[1]\u001b[39m\u001b[32m, line 4\u001b[39m\n\u001b[32m      1\u001b[39m \u001b[38;5;66;03m# full_trancate : 'customer_joining_info' Excel file from Drive to 'wh_online_banking' database\u001b[39;00m\n\u001b[32m      3\u001b[39m \u001b[38;5;28;01mfrom\u001b[39;00m\u001b[38;5;250m \u001b[39m\u001b[34;01murllib\u001b[39;00m\u001b[34;01m.\u001b[39;00m\u001b[34;01mparse\u001b[39;00m\u001b[38;5;250m \u001b[39m\u001b[38;5;28;01mimport\u001b[39;00m quote\n\u001b[32m----> \u001b[39m\u001b[32m4\u001b[39m \u001b[38;5;28;01mimport\u001b[39;00m\u001b[38;5;250m \u001b[39m\u001b[34;01msqlalchemy\u001b[39;00m\u001b[38;5;250m \u001b[39m\u001b[38;5;28;01mas\u001b[39;00m\u001b[38;5;250m \u001b[39m\u001b[34;01msqa\u001b[39;00m\n\u001b[32m      5\u001b[39m \u001b[38;5;28;01mimport\u001b[39;00m\u001b[38;5;250m \u001b[39m\u001b[34;01mpandas\u001b[39;00m\u001b[38;5;250m \u001b[39m\u001b[38;5;28;01mas\u001b[39;00m\u001b[38;5;250m \u001b[39m\u001b[34;01mpd\u001b[39;00m\n\u001b[32m      6\u001b[39m \u001b[38;5;28;01mimport\u001b[39;00m\u001b[38;5;250m \u001b[39m\u001b[34;01mpyodbc\u001b[39;00m\n",
      "\u001b[31mModuleNotFoundError\u001b[39m: No module named 'sqlalchemy'"
     ]
    }
   ],
   "source": [
    "# full_trancate : 'customer_joining_info' Excel file from Drive to 'wh_online_banking' database\n",
    "\n",
    "from urllib.parse import quote\n",
    "import sqlalchemy as sqa\n",
    "import pandas as pd\n",
    "import pyodbc\n",
    "import pymysql\n",
    "\n",
    "# Step 2: Access Secondary/WH database\n",
    "username = 'root'\n",
    "password = quote('Bela@112')\n",
    "host = 'localhost'\n",
    "port = '3306'\n",
    "database = 'wh_online_banking'\n",
    "\n",
    "url = 'mysql+pymysql://{0}:{1}@{2}:{3}/{4}'.format(username, password, host, port, database)\n",
    "mysql_engine_2 = sqa.create_engine(url)\n",
    "\n",
    "# Step 3: Load data from a CSV file\n",
    "csv_file_path = r\"D:\\Farhan's Academi\\Project Online Banking\\customer_joining_info.csv\"  \n",
    "\n",
    "# Load CSV data into a DataFrame\n",
    "df_csv = pd.read_csv(csv_file_path)\n",
    "\n",
    "print(f\"Number of rows loaded: {len(df_csv)}\")\n",
    "\n",
    "# Preview the CSV data\n",
    "print(\"CSV Data:\")\n",
    "print(df_csv.head())\n",
    "\n",
    "# Step 4: Optional - Load the CSV data into the Secondary/WH database \n",
    "df_csv.to_sql(\n",
    "    name='customer_joining_info', \n",
    "    con=mysql_engine_2,\n",
    "    if_exists='replace', \n",
    "    index=False,\n",
    "    chunksize=1000 \n",
    ")\n",
    "\n",
    "print(\"CSV data has been loaded into the secondary database.\")"
   ]
  },
  {
   "cell_type": "code",
   "execution_count": null,
   "id": "e760b13c-ae72-4fb4-b8e1-92a9f927f6a7",
   "metadata": {},
   "outputs": [],
   "source": []
  }
 ],
 "metadata": {
  "kernelspec": {
   "display_name": "Python 3 (ipykernel)",
   "language": "python",
   "name": "python3"
  },
  "language_info": {
   "codemirror_mode": {
    "name": "ipython",
    "version": 3
   },
   "file_extension": ".py",
   "mimetype": "text/x-python",
   "name": "python",
   "nbconvert_exporter": "python",
   "pygments_lexer": "ipython3",
   "version": "3.13.7"
  }
 },
 "nbformat": 4,
 "nbformat_minor": 5
}
